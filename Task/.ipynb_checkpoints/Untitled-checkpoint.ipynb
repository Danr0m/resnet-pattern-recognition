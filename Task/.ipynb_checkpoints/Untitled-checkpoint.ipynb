{
 "cells": [
  {
   "cell_type": "code",
   "execution_count": 16,
   "id": "33a10cf4",
   "metadata": {},
   "outputs": [
    {
     "name": "stdout",
     "output_type": "stream",
     "text": [
      "Found 460 images belonging to 10 classes.\n",
      "Found 460 images belonging to 10 classes.\n",
      "Epoch 1/10\n",
      "15/15 [==============================] - 76s 4s/step - loss: 0.9587 - accuracy: 0.7935 - val_loss: 87477.8125 - val_accuracy: 0.1000\n",
      "Epoch 2/10\n",
      "15/15 [==============================] - 65s 4s/step - loss: 0.7287 - accuracy: 0.8391 - val_loss: 66779.8125 - val_accuracy: 0.1000\n",
      "Epoch 3/10\n",
      "15/15 [==============================] - 60s 4s/step - loss: 1.5985 - accuracy: 0.8239 - val_loss: 2189267.2500 - val_accuracy: 0.1000\n",
      "Epoch 4/10\n",
      "15/15 [==============================] - 61s 4s/step - loss: 0.6890 - accuracy: 0.8543 - val_loss: 776904.0000 - val_accuracy: 0.1000\n",
      "Epoch 5/10\n",
      "15/15 [==============================] - 60s 4s/step - loss: 0.3211 - accuracy: 0.9109 - val_loss: 7513.2109 - val_accuracy: 0.1000\n",
      "Epoch 6/10\n",
      "15/15 [==============================] - 63s 4s/step - loss: 0.4217 - accuracy: 0.9370 - val_loss: 843.7417 - val_accuracy: 0.1000\n",
      "Epoch 7/10\n",
      "15/15 [==============================] - 60s 4s/step - loss: 0.3552 - accuracy: 0.9065 - val_loss: 6389.6865 - val_accuracy: 0.1000\n",
      "Epoch 8/10\n",
      "15/15 [==============================] - 66s 4s/step - loss: 0.1687 - accuracy: 0.9543 - val_loss: 58.2765 - val_accuracy: 0.1000\n",
      "Epoch 9/10\n",
      "15/15 [==============================] - 60s 4s/step - loss: 0.1550 - accuracy: 0.9609 - val_loss: 2.6303 - val_accuracy: 0.1543\n",
      "Epoch 10/10\n",
      "15/15 [==============================] - 66s 4s/step - loss: 0.1216 - accuracy: 0.9587 - val_loss: 2.9562 - val_accuracy: 0.1000\n"
     ]
    },
    {
     "data": {
      "text/plain": [
       "<keras.src.callbacks.History at 0x299a3729c50>"
      ]
     },
     "execution_count": 16,
     "metadata": {},
     "output_type": "execute_result"
    }
   ],
   "source": [
    "import tensorflow as tf\n",
    "from tensorflow.keras import layers, models\n",
    "from tensorflow.keras.applications import ResNet50\n",
    "from tensorflow.keras.optimizers import Adam\n",
    "from tensorflow.keras.losses import SparseCategoricalCrossentropy\n",
    "from tensorflow.keras.preprocessing.image import ImageDataGenerator\n",
    "from tensorflow.keras import Input\n",
    "\n",
    "train_data_dir = r\"C:\\Users\\bdfpv\\Desktop\\Task\\train\"\n",
    "test_data_dir = r\"C:\\Users\\bdfpv\\Desktop\\Task\\test\"\n",
    "\n",
    "img_size = (200, 200)\n",
    "\n",
    "# Генератор для обучающего набора данных с черно-белыми изображениями\n",
    "train_generator = ImageDataGenerator(rescale=1./255).flow_from_directory(\n",
    "    train_data_dir,\n",
    "    target_size=img_size,\n",
    "    batch_size=32,\n",
    "    class_mode='sparse',\n",
    "    color_mode='grayscale',\n",
    ")\n",
    "\n",
    "# Генератор для тестового набора данных с черно-белыми изображениями\n",
    "test_generator = ImageDataGenerator(rescale=1./255).flow_from_directory(\n",
    "    test_data_dir,\n",
    "    target_size=img_size,\n",
    "    batch_size=32,\n",
    "    class_mode='sparse',\n",
    "    color_mode='grayscale',\n",
    ")\n",
    "\n",
    "base_model = ResNet50(weights='imagenet', include_top=False, input_shape=(200, 200, 3))\n",
    "\n",
    "input_layer = Input(shape=(200, 200, 1))\n",
    "x = layers.Lambda(lambda x: tf.image.grayscale_to_rgb(x))(input_layer)\n",
    "x = base_model(x)\n",
    "x = layers.GlobalAveragePooling2D()(x)\n",
    "output_layer = layers.Dense(10, activation='softmax')(x)  \n",
    "model = models.Model(inputs=input_layer, outputs=output_layer)\n",
    "\n",
    "model.compile(optimizer=Adam(),\n",
    "              loss=SparseCategoricalCrossentropy(),\n",
    "              metrics=['accuracy'])\n",
    "\n",
    "model.fit(train_generator, epochs=10, validation_data=test_generator)"
   ]
  },
  {
   "cell_type": "code",
   "execution_count": 18,
   "id": "ee427064",
   "metadata": {},
   "outputs": [
    {
     "name": "stdout",
     "output_type": "stream",
     "text": [
      "15/15 [==============================] - 26s 2s/step - loss: 2.9562 - accuracy: 0.1000\n",
      "Test Accuracy: 10.00%\n"
     ]
    }
   ],
   "source": [
    "test_loss, test_accuracy = model.evaluate(test_generator)\n",
    "print(f'Test Accuracy: {test_accuracy * 100:.2f}%')"
   ]
  },
  {
   "cell_type": "code",
   "execution_count": null,
   "id": "0a9c7186",
   "metadata": {},
   "outputs": [],
   "source": []
  }
 ],
 "metadata": {
  "kernelspec": {
   "display_name": "Python 3 (ipykernel)",
   "language": "python",
   "name": "python3"
  },
  "language_info": {
   "codemirror_mode": {
    "name": "ipython",
    "version": 3
   },
   "file_extension": ".py",
   "mimetype": "text/x-python",
   "name": "python",
   "nbconvert_exporter": "python",
   "pygments_lexer": "ipython3",
   "version": "3.11.0"
  }
 },
 "nbformat": 4,
 "nbformat_minor": 5
}
